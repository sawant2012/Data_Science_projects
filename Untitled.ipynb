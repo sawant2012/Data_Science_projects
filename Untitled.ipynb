{
 "cells": [
  {
   "cell_type": "markdown",
   "metadata": {},
   "source": [
    "We are analysing the data to predict which pasangers survived the tragedy.\n",
    "Logistic Regression in R has been implemented for the classification "
   ]
  },
  {
   "cell_type": "markdown",
   "metadata": {},
   "source": [
    "# Data input"
   ]
  },
  {
   "cell_type": "code",
   "execution_count": 1,
   "metadata": {},
   "outputs": [],
   "source": [
    "df.train <- read.csv('train.csv')\n",
    "df.test <- read.csv('test.csv')"
   ]
  },
  {
   "cell_type": "code",
   "execution_count": 2,
   "metadata": {},
   "outputs": [
    {
     "data": {
      "text/html": [
       "<ol class=list-inline>\n",
       "\t<li>'PassengerId'</li>\n",
       "\t<li>'Survived'</li>\n",
       "\t<li>'Pclass'</li>\n",
       "\t<li>'Name'</li>\n",
       "\t<li>'Sex'</li>\n",
       "\t<li>'Age'</li>\n",
       "\t<li>'SibSp'</li>\n",
       "\t<li>'Parch'</li>\n",
       "\t<li>'Ticket'</li>\n",
       "\t<li>'Fare'</li>\n",
       "\t<li>'Cabin'</li>\n",
       "\t<li>'Embarked'</li>\n",
       "</ol>\n"
      ],
      "text/latex": [
       "\\begin{enumerate*}\n",
       "\\item 'PassengerId'\n",
       "\\item 'Survived'\n",
       "\\item 'Pclass'\n",
       "\\item 'Name'\n",
       "\\item 'Sex'\n",
       "\\item 'Age'\n",
       "\\item 'SibSp'\n",
       "\\item 'Parch'\n",
       "\\item 'Ticket'\n",
       "\\item 'Fare'\n",
       "\\item 'Cabin'\n",
       "\\item 'Embarked'\n",
       "\\end{enumerate*}\n"
      ],
      "text/markdown": [
       "1. 'PassengerId'\n",
       "2. 'Survived'\n",
       "3. 'Pclass'\n",
       "4. 'Name'\n",
       "5. 'Sex'\n",
       "6. 'Age'\n",
       "7. 'SibSp'\n",
       "8. 'Parch'\n",
       "9. 'Ticket'\n",
       "10. 'Fare'\n",
       "11. 'Cabin'\n",
       "12. 'Embarked'\n",
       "\n",
       "\n"
      ],
      "text/plain": [
       " [1] \"PassengerId\" \"Survived\"    \"Pclass\"      \"Name\"        \"Sex\"        \n",
       " [6] \"Age\"         \"SibSp\"       \"Parch\"       \"Ticket\"      \"Fare\"       \n",
       "[11] \"Cabin\"       \"Embarked\"   "
      ]
     },
     "metadata": {},
     "output_type": "display_data"
    }
   ],
   "source": [
    "names(df.train)"
   ]
  },
  {
   "cell_type": "code",
   "execution_count": 3,
   "metadata": {},
   "outputs": [
    {
     "data": {
      "text/html": [
       "<table>\n",
       "<caption>A data.frame: 6 × 12</caption>\n",
       "<thead>\n",
       "\t<tr><th scope=col>PassengerId</th><th scope=col>Survived</th><th scope=col>Pclass</th><th scope=col>Name</th><th scope=col>Sex</th><th scope=col>Age</th><th scope=col>SibSp</th><th scope=col>Parch</th><th scope=col>Ticket</th><th scope=col>Fare</th><th scope=col>Cabin</th><th scope=col>Embarked</th></tr>\n",
       "\t<tr><th scope=col>&lt;int&gt;</th><th scope=col>&lt;int&gt;</th><th scope=col>&lt;int&gt;</th><th scope=col>&lt;fct&gt;</th><th scope=col>&lt;fct&gt;</th><th scope=col>&lt;dbl&gt;</th><th scope=col>&lt;int&gt;</th><th scope=col>&lt;int&gt;</th><th scope=col>&lt;fct&gt;</th><th scope=col>&lt;dbl&gt;</th><th scope=col>&lt;fct&gt;</th><th scope=col>&lt;fct&gt;</th></tr>\n",
       "</thead>\n",
       "<tbody>\n",
       "\t<tr><td>1</td><td>0</td><td>3</td><td>Braund, Mr. Owen Harris                            </td><td>male  </td><td>22</td><td>1</td><td>0</td><td>A/5 21171       </td><td> 7.2500</td><td>    </td><td>S</td></tr>\n",
       "\t<tr><td>2</td><td>1</td><td>1</td><td>Cumings, Mrs. John Bradley (Florence Briggs Thayer)</td><td>female</td><td>38</td><td>1</td><td>0</td><td>PC 17599        </td><td>71.2833</td><td>C85 </td><td>C</td></tr>\n",
       "\t<tr><td>3</td><td>1</td><td>3</td><td>Heikkinen, Miss. Laina                             </td><td>female</td><td>26</td><td>0</td><td>0</td><td>STON/O2. 3101282</td><td> 7.9250</td><td>    </td><td>S</td></tr>\n",
       "\t<tr><td>4</td><td>1</td><td>1</td><td>Futrelle, Mrs. Jacques Heath (Lily May Peel)       </td><td>female</td><td>35</td><td>1</td><td>0</td><td>113803          </td><td>53.1000</td><td>C123</td><td>S</td></tr>\n",
       "\t<tr><td>5</td><td>0</td><td>3</td><td>Allen, Mr. William Henry                           </td><td>male  </td><td>35</td><td>0</td><td>0</td><td>373450          </td><td> 8.0500</td><td>    </td><td>S</td></tr>\n",
       "\t<tr><td>6</td><td>0</td><td>3</td><td>Moran, Mr. James                                   </td><td>male  </td><td>NA</td><td>0</td><td>0</td><td>330877          </td><td> 8.4583</td><td>    </td><td>Q</td></tr>\n",
       "</tbody>\n",
       "</table>\n"
      ],
      "text/latex": [
       "A data.frame: 6 × 12\n",
       "\\begin{tabular}{r|llllllllllll}\n",
       " PassengerId & Survived & Pclass & Name & Sex & Age & SibSp & Parch & Ticket & Fare & Cabin & Embarked\\\\\n",
       " <int> & <int> & <int> & <fct> & <fct> & <dbl> & <int> & <int> & <fct> & <dbl> & <fct> & <fct>\\\\\n",
       "\\hline\n",
       "\t 1 & 0 & 3 & Braund, Mr. Owen Harris                             & male   & 22 & 1 & 0 & A/5 21171        &  7.2500 &      & S\\\\\n",
       "\t 2 & 1 & 1 & Cumings, Mrs. John Bradley (Florence Briggs Thayer) & female & 38 & 1 & 0 & PC 17599         & 71.2833 & C85  & C\\\\\n",
       "\t 3 & 1 & 3 & Heikkinen, Miss. Laina                              & female & 26 & 0 & 0 & STON/O2. 3101282 &  7.9250 &      & S\\\\\n",
       "\t 4 & 1 & 1 & Futrelle, Mrs. Jacques Heath (Lily May Peel)        & female & 35 & 1 & 0 & 113803           & 53.1000 & C123 & S\\\\\n",
       "\t 5 & 0 & 3 & Allen, Mr. William Henry                            & male   & 35 & 0 & 0 & 373450           &  8.0500 &      & S\\\\\n",
       "\t 6 & 0 & 3 & Moran, Mr. James                                    & male   & NA & 0 & 0 & 330877           &  8.4583 &      & Q\\\\\n",
       "\\end{tabular}\n"
      ],
      "text/markdown": [
       "\n",
       "A data.frame: 6 × 12\n",
       "\n",
       "| PassengerId &lt;int&gt; | Survived &lt;int&gt; | Pclass &lt;int&gt; | Name &lt;fct&gt; | Sex &lt;fct&gt; | Age &lt;dbl&gt; | SibSp &lt;int&gt; | Parch &lt;int&gt; | Ticket &lt;fct&gt; | Fare &lt;dbl&gt; | Cabin &lt;fct&gt; | Embarked &lt;fct&gt; |\n",
       "|---|---|---|---|---|---|---|---|---|---|---|---|\n",
       "| 1 | 0 | 3 | Braund, Mr. Owen Harris                             | male   | 22 | 1 | 0 | A/5 21171        |  7.2500 | <!----> | S |\n",
       "| 2 | 1 | 1 | Cumings, Mrs. John Bradley (Florence Briggs Thayer) | female | 38 | 1 | 0 | PC 17599         | 71.2833 | C85  | C |\n",
       "| 3 | 1 | 3 | Heikkinen, Miss. Laina                              | female | 26 | 0 | 0 | STON/O2. 3101282 |  7.9250 | <!----> | S |\n",
       "| 4 | 1 | 1 | Futrelle, Mrs. Jacques Heath (Lily May Peel)        | female | 35 | 1 | 0 | 113803           | 53.1000 | C123 | S |\n",
       "| 5 | 0 | 3 | Allen, Mr. William Henry                            | male   | 35 | 0 | 0 | 373450           |  8.0500 | <!----> | S |\n",
       "| 6 | 0 | 3 | Moran, Mr. James                                    | male   | NA | 0 | 0 | 330877           |  8.4583 | <!----> | Q |\n",
       "\n"
      ],
      "text/plain": [
       "  PassengerId Survived Pclass\n",
       "1 1           0        3     \n",
       "2 2           1        1     \n",
       "3 3           1        3     \n",
       "4 4           1        1     \n",
       "5 5           0        3     \n",
       "6 6           0        3     \n",
       "  Name                                                Sex    Age SibSp Parch\n",
       "1 Braund, Mr. Owen Harris                             male   22  1     0    \n",
       "2 Cumings, Mrs. John Bradley (Florence Briggs Thayer) female 38  1     0    \n",
       "3 Heikkinen, Miss. Laina                              female 26  0     0    \n",
       "4 Futrelle, Mrs. Jacques Heath (Lily May Peel)        female 35  1     0    \n",
       "5 Allen, Mr. William Henry                            male   35  0     0    \n",
       "6 Moran, Mr. James                                    male   NA  0     0    \n",
       "  Ticket           Fare    Cabin Embarked\n",
       "1 A/5 21171         7.2500       S       \n",
       "2 PC 17599         71.2833 C85   C       \n",
       "3 STON/O2. 3101282  7.9250       S       \n",
       "4 113803           53.1000 C123  S       \n",
       "5 373450            8.0500       S       \n",
       "6 330877            8.4583       Q       "
      ]
     },
     "metadata": {},
     "output_type": "display_data"
    }
   ],
   "source": [
    "head(df.train)"
   ]
  },
  {
   "cell_type": "code",
   "execution_count": 4,
   "metadata": {},
   "outputs": [
    {
     "data": {
      "text/html": [
       "<table>\n",
       "<caption>A data.frame: 6 × 11</caption>\n",
       "<thead>\n",
       "\t<tr><th scope=col>PassengerId</th><th scope=col>Pclass</th><th scope=col>Name</th><th scope=col>Sex</th><th scope=col>Age</th><th scope=col>SibSp</th><th scope=col>Parch</th><th scope=col>Ticket</th><th scope=col>Fare</th><th scope=col>Cabin</th><th scope=col>Embarked</th></tr>\n",
       "\t<tr><th scope=col>&lt;int&gt;</th><th scope=col>&lt;int&gt;</th><th scope=col>&lt;fct&gt;</th><th scope=col>&lt;fct&gt;</th><th scope=col>&lt;dbl&gt;</th><th scope=col>&lt;int&gt;</th><th scope=col>&lt;int&gt;</th><th scope=col>&lt;fct&gt;</th><th scope=col>&lt;dbl&gt;</th><th scope=col>&lt;fct&gt;</th><th scope=col>&lt;fct&gt;</th></tr>\n",
       "</thead>\n",
       "<tbody>\n",
       "\t<tr><td>892</td><td>3</td><td>Kelly, Mr. James                            </td><td>male  </td><td>34.5</td><td>0</td><td>0</td><td>330911 </td><td> 7.8292</td><td></td><td>Q</td></tr>\n",
       "\t<tr><td>893</td><td>3</td><td>Wilkes, Mrs. James (Ellen Needs)            </td><td>female</td><td>47.0</td><td>1</td><td>0</td><td>363272 </td><td> 7.0000</td><td></td><td>S</td></tr>\n",
       "\t<tr><td>894</td><td>2</td><td>Myles, Mr. Thomas Francis                   </td><td>male  </td><td>62.0</td><td>0</td><td>0</td><td>240276 </td><td> 9.6875</td><td></td><td>Q</td></tr>\n",
       "\t<tr><td>895</td><td>3</td><td>Wirz, Mr. Albert                            </td><td>male  </td><td>27.0</td><td>0</td><td>0</td><td>315154 </td><td> 8.6625</td><td></td><td>S</td></tr>\n",
       "\t<tr><td>896</td><td>3</td><td>Hirvonen, Mrs. Alexander (Helga E Lindqvist)</td><td>female</td><td>22.0</td><td>1</td><td>1</td><td>3101298</td><td>12.2875</td><td></td><td>S</td></tr>\n",
       "\t<tr><td>897</td><td>3</td><td>Svensson, Mr. Johan Cervin                  </td><td>male  </td><td>14.0</td><td>0</td><td>0</td><td>7538   </td><td> 9.2250</td><td></td><td>S</td></tr>\n",
       "</tbody>\n",
       "</table>\n"
      ],
      "text/latex": [
       "A data.frame: 6 × 11\n",
       "\\begin{tabular}{r|lllllllllll}\n",
       " PassengerId & Pclass & Name & Sex & Age & SibSp & Parch & Ticket & Fare & Cabin & Embarked\\\\\n",
       " <int> & <int> & <fct> & <fct> & <dbl> & <int> & <int> & <fct> & <dbl> & <fct> & <fct>\\\\\n",
       "\\hline\n",
       "\t 892 & 3 & Kelly, Mr. James                             & male   & 34.5 & 0 & 0 & 330911  &  7.8292 &  & Q\\\\\n",
       "\t 893 & 3 & Wilkes, Mrs. James (Ellen Needs)             & female & 47.0 & 1 & 0 & 363272  &  7.0000 &  & S\\\\\n",
       "\t 894 & 2 & Myles, Mr. Thomas Francis                    & male   & 62.0 & 0 & 0 & 240276  &  9.6875 &  & Q\\\\\n",
       "\t 895 & 3 & Wirz, Mr. Albert                             & male   & 27.0 & 0 & 0 & 315154  &  8.6625 &  & S\\\\\n",
       "\t 896 & 3 & Hirvonen, Mrs. Alexander (Helga E Lindqvist) & female & 22.0 & 1 & 1 & 3101298 & 12.2875 &  & S\\\\\n",
       "\t 897 & 3 & Svensson, Mr. Johan Cervin                   & male   & 14.0 & 0 & 0 & 7538    &  9.2250 &  & S\\\\\n",
       "\\end{tabular}\n"
      ],
      "text/markdown": [
       "\n",
       "A data.frame: 6 × 11\n",
       "\n",
       "| PassengerId &lt;int&gt; | Pclass &lt;int&gt; | Name &lt;fct&gt; | Sex &lt;fct&gt; | Age &lt;dbl&gt; | SibSp &lt;int&gt; | Parch &lt;int&gt; | Ticket &lt;fct&gt; | Fare &lt;dbl&gt; | Cabin &lt;fct&gt; | Embarked &lt;fct&gt; |\n",
       "|---|---|---|---|---|---|---|---|---|---|---|\n",
       "| 892 | 3 | Kelly, Mr. James                             | male   | 34.5 | 0 | 0 | 330911  |  7.8292 | <!----> | Q |\n",
       "| 893 | 3 | Wilkes, Mrs. James (Ellen Needs)             | female | 47.0 | 1 | 0 | 363272  |  7.0000 | <!----> | S |\n",
       "| 894 | 2 | Myles, Mr. Thomas Francis                    | male   | 62.0 | 0 | 0 | 240276  |  9.6875 | <!----> | Q |\n",
       "| 895 | 3 | Wirz, Mr. Albert                             | male   | 27.0 | 0 | 0 | 315154  |  8.6625 | <!----> | S |\n",
       "| 896 | 3 | Hirvonen, Mrs. Alexander (Helga E Lindqvist) | female | 22.0 | 1 | 1 | 3101298 | 12.2875 | <!----> | S |\n",
       "| 897 | 3 | Svensson, Mr. Johan Cervin                   | male   | 14.0 | 0 | 0 | 7538    |  9.2250 | <!----> | S |\n",
       "\n"
      ],
      "text/plain": [
       "  PassengerId Pclass Name                                         Sex    Age \n",
       "1 892         3      Kelly, Mr. James                             male   34.5\n",
       "2 893         3      Wilkes, Mrs. James (Ellen Needs)             female 47.0\n",
       "3 894         2      Myles, Mr. Thomas Francis                    male   62.0\n",
       "4 895         3      Wirz, Mr. Albert                             male   27.0\n",
       "5 896         3      Hirvonen, Mrs. Alexander (Helga E Lindqvist) female 22.0\n",
       "6 897         3      Svensson, Mr. Johan Cervin                   male   14.0\n",
       "  SibSp Parch Ticket  Fare    Cabin Embarked\n",
       "1 0     0     330911   7.8292       Q       \n",
       "2 1     0     363272   7.0000       S       \n",
       "3 0     0     240276   9.6875       Q       \n",
       "4 0     0     315154   8.6625       S       \n",
       "5 1     1     3101298 12.2875       S       \n",
       "6 0     0     7538     9.2250       S       "
      ]
     },
     "metadata": {},
     "output_type": "display_data"
    }
   ],
   "source": [
    "head(df.test)"
   ]
  },
  {
   "cell_type": "code",
   "execution_count": 5,
   "metadata": {},
   "outputs": [
    {
     "data": {
      "text/plain": [
       "  PassengerId       Survived          Pclass     \n",
       " Min.   :  1.0   Min.   :0.0000   Min.   :1.000  \n",
       " 1st Qu.:223.5   1st Qu.:0.0000   1st Qu.:2.000  \n",
       " Median :446.0   Median :0.0000   Median :3.000  \n",
       " Mean   :446.0   Mean   :0.3838   Mean   :2.309  \n",
       " 3rd Qu.:668.5   3rd Qu.:1.0000   3rd Qu.:3.000  \n",
       " Max.   :891.0   Max.   :1.0000   Max.   :3.000  \n",
       "                                                 \n",
       "                                    Name         Sex           Age       \n",
       " Abbing, Mr. Anthony                  :  1   female:314   Min.   : 0.42  \n",
       " Abbott, Mr. Rossmore Edward          :  1   male  :577   1st Qu.:20.12  \n",
       " Abbott, Mrs. Stanton (Rosa Hunt)     :  1                Median :28.00  \n",
       " Abelson, Mr. Samuel                  :  1                Mean   :29.70  \n",
       " Abelson, Mrs. Samuel (Hannah Wizosky):  1                3rd Qu.:38.00  \n",
       " Adahl, Mr. Mauritz Nils Martin       :  1                Max.   :80.00  \n",
       " (Other)                              :885                NA's   :177    \n",
       "     SibSp           Parch             Ticket         Fare       \n",
       " Min.   :0.000   Min.   :0.0000   1601    :  7   Min.   :  0.00  \n",
       " 1st Qu.:0.000   1st Qu.:0.0000   347082  :  7   1st Qu.:  7.91  \n",
       " Median :0.000   Median :0.0000   CA. 2343:  7   Median : 14.45  \n",
       " Mean   :0.523   Mean   :0.3816   3101295 :  6   Mean   : 32.20  \n",
       " 3rd Qu.:1.000   3rd Qu.:0.0000   347088  :  6   3rd Qu.: 31.00  \n",
       " Max.   :8.000   Max.   :6.0000   CA 2144 :  6   Max.   :512.33  \n",
       "                                  (Other) :852                   \n",
       "         Cabin     Embarked\n",
       "            :687    :  2   \n",
       " B96 B98    :  4   C:168   \n",
       " C23 C25 C27:  4   Q: 77   \n",
       " G6         :  4   S:644   \n",
       " C22 C26    :  3           \n",
       " D          :  3           \n",
       " (Other)    :186           "
      ]
     },
     "metadata": {},
     "output_type": "display_data"
    }
   ],
   "source": [
    "summary(df.train)"
   ]
  },
  {
   "cell_type": "code",
   "execution_count": 6,
   "metadata": {},
   "outputs": [
    {
     "data": {
      "text/plain": [
       "  PassengerId         Pclass     \n",
       " Min.   : 892.0   Min.   :1.000  \n",
       " 1st Qu.: 995.8   1st Qu.:1.000  \n",
       " Median :1099.5   Median :3.000  \n",
       " Mean   :1099.8   Mean   :2.262  \n",
       " 3rd Qu.:1203.2   3rd Qu.:3.000  \n",
       " Max.   :1309.0   Max.   :3.000  \n",
       "                                 \n",
       "                                        Name         Sex           Age       \n",
       " Abbott, Master. Eugene Joseph            :  1   female:151   Min.   : 0.17  \n",
       " Abelseth, Miss. Karen Marie              :  1   male  :265   1st Qu.:21.00  \n",
       " Abelseth, Mr. Olaus Jorgensen            :  1                Median :27.00  \n",
       " Abrahamsson, Mr. Abraham August Johannes :  1                Mean   :30.27  \n",
       " Abrahim, Mrs. Joseph (Sophie Halaut Easu):  1                3rd Qu.:39.00  \n",
       " Aks, Master. Philip Frank                :  1                Max.   :76.00  \n",
       " (Other)                                  :410                NA's   :84     \n",
       "     SibSp            Parch              Ticket         Fare        \n",
       " Min.   :0.0000   Min.   :0.000   PC 17608  :  5   Min.   :  0.000  \n",
       " 1st Qu.:0.0000   1st Qu.:0.000   113503    :  4   1st Qu.:  7.896  \n",
       " Median :0.0000   Median :0.000   16966     :  3   Median : 14.454  \n",
       " Mean   :0.4447   Mean   :0.351   220845    :  3   Mean   : 35.464  \n",
       " 3rd Qu.:1.0000   3rd Qu.:0.000   347077    :  3   3rd Qu.: 31.387  \n",
       " Max.   :8.0000   Max.   :6.000   C.A. 31029:  3   Max.   :512.329  \n",
       "                                  (Other)   :395   NA's   :1        \n",
       "             Cabin     Embarked\n",
       "                :325   C:102   \n",
       " B57 B59 B63 B66:  3   Q: 46   \n",
       " A34            :  2   S:268   \n",
       " B45            :  2           \n",
       " C101           :  2           \n",
       " C116           :  2           \n",
       " (Other)        : 80           "
      ]
     },
     "metadata": {},
     "output_type": "display_data"
    }
   ],
   "source": [
    "summary(df.test)"
   ]
  },
  {
   "cell_type": "markdown",
   "metadata": {},
   "source": [
    "# Exploratory Data Analysis (EDA)"
   ]
  },
  {
   "cell_type": "code",
   "execution_count": 7,
   "metadata": {},
   "outputs": [
    {
     "name": "stderr",
     "output_type": "stream",
     "text": [
      "Installing package into 'C:/Users/sawan/Documents/R/win-library/3.6'\n",
      "(as 'lib' is unspecified)\n",
      "\n"
     ]
    },
    {
     "name": "stdout",
     "output_type": "stream",
     "text": [
      "package 'Amelia' successfully unpacked and MD5 sums checked\n",
      "\n",
      "The downloaded binary packages are in\n",
      "\tC:\\Users\\sawan\\AppData\\Local\\Temp\\RtmpWiLoxG\\downloaded_packages\n"
     ]
    }
   ],
   "source": [
    "#Using the Amelia package and the missmap function in Amelia to check for missing entries in our dataset \n",
    "install.packages(\"Amelia\")"
   ]
  },
  {
   "cell_type": "code",
   "execution_count": 8,
   "metadata": {},
   "outputs": [
    {
     "name": "stderr",
     "output_type": "stream",
     "text": [
      "Loading required package: Rcpp\n",
      "\n",
      "## \n",
      "## Amelia II: Multiple Imputation\n",
      "## (Version 1.7.5, built: 2018-05-07)\n",
      "## Copyright (C) 2005-2019 James Honaker, Gary King and Matthew Blackwell\n",
      "## Refer to http://gking.harvard.edu/amelia/ for more information\n",
      "## \n",
      "\n"
     ]
    },
    {
     "data": {
      "image/png": "[encoded data removed]",
      "text/plain": [
       "Plot with title \"Titanic Training Data - Missings Map\""
      ]
     },
     "metadata": {
      "image/png": {
       "height": 420,
       "width": 420
      },
      "text/plain": {
       "height": 420,
       "width": 420
      }
     },
     "output_type": "display_data"
    }
   ],
   "source": [
    "library(Amelia)\n",
    "#checking train data for missing values \n",
    "missmap(df.train, main=\"Titanic Training Data - Missings Map\", \n",
    "        col=c(\"red\", \"black\"), legend=FALSE)"
   ]
  },
  {
   "cell_type": "markdown",
   "metadata": {},
   "source": [
    "We can see here that almost 25% of the data in the age column is missing.\n",
    "Replacing this data with the appropriate mean age to get a cleaner data for accurate analysis "
   ]
  },
  {
   "cell_type": "markdown",
   "metadata": {},
   "source": [
    "Checking the average age of passangers by passanger class.\n",
    "There can be a relationship between the age and the class in which the people are travelling. "
   ]
  },
  {
   "cell_type": "code",
   "execution_count": 9,
   "metadata": {},
   "outputs": [
    {
     "data": {
      "image/png": "[encoded data removed]",
      "text/plain": [
       "Plot with title \"Titanic Training Data - Missings Map\""
      ]
     },
     "metadata": {
      "image/png": {
       "height": 420,
       "width": 420
      },
      "text/plain": {
       "height": 420,
       "width": 420
      }
     },
     "output_type": "display_data"
    }
   ],
   "source": [
    "#checking test data for missing values \n",
    "missmap(df.test, main=\"Titanic Training Data - Missings Map\", \n",
    "        col=c(\"red\", \"black\"), legend=FALSE)"
   ]
  },
  {
   "cell_type": "code",
   "execution_count": 10,
   "metadata": {},
   "outputs": [
    {
     "name": "stderr",
     "output_type": "stream",
     "text": [
      "Installing package into 'C:/Users/sawan/Documents/R/win-library/3.6'\n",
      "(as 'lib' is unspecified)\n",
      "\n"
     ]
    },
    {
     "name": "stdout",
     "output_type": "stream",
     "text": [
      "package 'ggplot2' successfully unpacked and MD5 sums checked\n",
      "\n",
      "The downloaded binary packages are in\n",
      "\tC:\\Users\\sawan\\AppData\\Local\\Temp\\RtmpWiLoxG\\downloaded_packages\n"
     ]
    }
   ],
   "source": [
    "install.packages('ggplot2')"
   ]
  },
  {
   "cell_type": "code",
   "execution_count": 11,
   "metadata": {},
   "outputs": [
    {
     "name": "stderr",
     "output_type": "stream",
     "text": [
      "Loading required package: ggplot2\n",
      "\n",
      "Warning message:\n",
      "\"Removed 177 rows containing non-finite values (stat_boxplot).\"\n"
     ]
    },
    {
     "data": {
      "image/png": "[encoded data removed]",
      "text/plain": [
       "plot without title"
      ]
     },
     "metadata": {
      "image/png": {
       "height": 420,
       "width": 420
      },
      "text/plain": {
       "height": 420,
       "width": 420
      }
     },
     "output_type": "display_data"
    }
   ],
   "source": [
    "require('ggplot2')\n",
    "pl <- ggplot(df.train,aes(Pclass,Age)) + geom_boxplot(aes(group=Pclass,fill=factor(Pclass),alpha=0.4)) \n",
    "pl + scale_y_continuous(breaks = seq(min(0), max(80), by = 2))"
   ]
  },
  {
   "cell_type": "markdown",
   "metadata": {},
   "source": [
    "The results show that wealthier passangers who travel by first class have a comparatively greater age than the passangers of second and third class, so it will be appropriate to replace the missing data with the average age of people in a particular class.\n",
    "Average age of people in first class: 37\n",
    "Average age of people in second class: 29\n",
    "Average age of people in third class: 24"
   ]
  },
  {
   "cell_type": "markdown",
   "metadata": {},
   "source": [
    "# Data Cleaning "
   ]
  },
  {
   "cell_type": "code",
   "execution_count": 12,
   "metadata": {},
   "outputs": [],
   "source": [
    "# function to assign the appropriate average age value according to the passenger class \n",
    "impute_age <- function(age,class){\n",
    "    out <- age\n",
    "    for (i in 1:length(age)){\n",
    "        \n",
    "        if (is.na(age[i])){\n",
    "\n",
    "            if (class[i] == 1){\n",
    "                out[i] <- 37\n",
    "\n",
    "            }else if (class[i] == 2){\n",
    "                out[i] <- 29\n",
    "\n",
    "            }else{\n",
    "                out[i] <- 24\n",
    "            }\n",
    "        }else{\n",
    "            out[i]<-age[i]\n",
    "        }\n",
    "    }\n",
    "    return(out)\n",
    "}"
   ]
  },
  {
   "cell_type": "code",
   "execution_count": 13,
   "metadata": {},
   "outputs": [
    {
     "data": {
      "text/html": [
       "FALSE"
      ],
      "text/latex": [
       "FALSE"
      ],
      "text/markdown": [
       "FALSE"
      ],
      "text/plain": [
       "[1] FALSE"
      ]
     },
     "metadata": {},
     "output_type": "display_data"
    },
    {
     "data": {
      "text/html": [
       "FALSE"
      ],
      "text/latex": [
       "FALSE"
      ],
      "text/markdown": [
       "FALSE"
      ],
      "text/plain": [
       "[1] FALSE"
      ]
     },
     "metadata": {},
     "output_type": "display_data"
    }
   ],
   "source": [
    "Adjusted.ages <- impute_age(df.train$Age,df.train$Pclass)\n",
    "Adjusted.ages_test <- impute_age(df.test$Age,df.test$Pclass)\n",
    "#updating the database \n",
    "df.train$Age <- Adjusted.ages\n",
    "df.test$Age <- Adjusted.ages_test\n",
    "\n",
    "#checking for any missing values after the replacement \n",
    "any(is.na(df.train$Age))\n",
    "any(is.na(df.test$Age))"
   ]
  },
  {
   "cell_type": "code",
   "execution_count": 14,
   "metadata": {},
   "outputs": [
    {
     "data": {
      "text/html": [
       "FALSE"
      ],
      "text/latex": [
       "FALSE"
      ],
      "text/markdown": [
       "FALSE"
      ],
      "text/plain": [
       "[1] FALSE"
      ]
     },
     "metadata": {},
     "output_type": "display_data"
    }
   ],
   "source": [
    "# Replacing unknown Fare values with mean Fare value \n",
    "for (i in 1:length(df.test$Fare)){\n",
    "        \n",
    "        if (is.na(df.test$Fare[i])){\n",
    "            df.test$Fare[i]<- mean(df.test$Fare,na.rm=TRUE)\n",
    "            }else{\n",
    "            df.test$Fare[i]<-df.test$Fare[i]\n",
    "\n",
    "        }\n",
    "    }\n",
    "any(is.na(df.test$Fare))"
   ]
  },
  {
   "cell_type": "markdown",
   "metadata": {},
   "source": [
    "# Data Visualization "
   ]
  },
  {
   "cell_type": "code",
   "execution_count": 15,
   "metadata": {},
   "outputs": [
    {
     "data": {
      "image/png": "[encoded data removed]",
      "text/plain": [
       "plot without title"
      ]
     },
     "metadata": {
      "image/png": {
       "height": 420,
       "width": 420
      },
      "text/plain": {
       "height": 420,
       "width": 420
      }
     },
     "output_type": "display_data"
    }
   ],
   "source": [
    "# Checking how many people survived and how many died \n",
    "ggplot(df.train,aes(Survived)) + geom_bar(fill='orange',color=\"black\", alpha=0.5)"
   ]
  },
  {
   "cell_type": "code",
   "execution_count": 16,
   "metadata": {},
   "outputs": [
    {
     "data": {
      "image/png": "[encoded data removed]",
      "text/plain": [
       "plot without title"
      ]
     },
     "metadata": {
      "image/png": {
       "height": 420,
       "width": 420
      },
      "text/plain": {
       "height": 420,
       "width": 420
      }
     },
     "output_type": "display_data"
    }
   ],
   "source": [
    "ggplot(df.train,aes(Pclass)) + geom_bar(aes(fill= factor(Survived)),color=\"black\",alpha=0.5,position=\"fill\")"
   ]
  },
  {
   "cell_type": "markdown",
   "metadata": {},
   "source": [
    "we can clearly see that a huge portion of the third class passangers lost their lives in the incident.The passenger's class is a major influencer on the chances of survival"
   ]
  },
  {
   "cell_type": "code",
   "execution_count": 17,
   "metadata": {},
   "outputs": [
    {
     "data": {
      "image/png": "[encoded data removed]",
      "text/plain": [
       "plot without title"
      ]
     },
     "metadata": {
      "image/png": {
       "height": 420,
       "width": 420
      },
      "text/plain": {
       "height": 420,
       "width": 420
      }
     },
     "output_type": "display_data"
    }
   ],
   "source": [
    "# class of the passangers\n",
    "ggplot(df.train,aes(Pclass)) + geom_bar(aes(fill=factor(Pclass)),color=\"black\", alpha=0.5)"
   ]
  },
  {
   "cell_type": "code",
   "execution_count": 18,
   "metadata": {},
   "outputs": [
    {
     "data": {
      "image/png": "[encoded data removed]",
      "text/plain": [
       "plot without title"
      ]
     },
     "metadata": {
      "image/png": {
       "height": 420,
       "width": 420
      },
      "text/plain": {
       "height": 420,
       "width": 420
      }
     },
     "output_type": "display_data"
    }
   ],
   "source": [
    "# Age distribution of the pasangers \n",
    "ggplot(df.train,aes(Age)) + geom_histogram(color='black',fill='navy blue',bins=20,alpha= 0.5)"
   ]
  },
  {
   "cell_type": "code",
   "execution_count": 19,
   "metadata": {},
   "outputs": [
    {
     "data": {
      "image/png": "[encoded data removed]",
      "text/plain": [
       "plot without title"
      ]
     },
     "metadata": {
      "image/png": {
       "height": 420,
       "width": 420
      },
      "text/plain": {
       "height": 420,
       "width": 420
      }
     },
     "output_type": "display_data"
    }
   ],
   "source": [
    "# How many people were accompanied either by a sibling or a parent \n",
    "ggplot(df.train,aes(SibSp+Parch)) + geom_bar(fill='dark green',color=\"black\",alpha=0.5)"
   ]
  },
  {
   "cell_type": "code",
   "execution_count": 20,
   "metadata": {},
   "outputs": [
    {
     "data": {
      "image/png": "[encoded data removed]",
      "text/plain": [
       "plot without title"
      ]
     },
     "metadata": {
      "image/png": {
       "height": 420,
       "width": 420
      },
      "text/plain": {
       "height": 420,
       "width": 420
      }
     },
     "output_type": "display_data"
    }
   ],
   "source": [
    "# Number of males and females and what number of each category survived or died \n",
    "ggplot(df.train,aes(Sex)) + geom_bar(aes(fill=factor(Survived)),alpha=0.5)"
   ]
  },
  {
   "cell_type": "markdown",
   "metadata": {},
   "source": [
    "A lot more males died because of the female and children first policy "
   ]
  },
  {
   "cell_type": "code",
   "execution_count": 21,
   "metadata": {},
   "outputs": [
    {
     "data": {
      "image/png": "[encoded data removed]",
      "text/plain": [
       "plot without title"
      ]
     },
     "metadata": {
      "image/png": {
       "height": 420,
       "width": 420
      },
      "text/plain": {
       "height": 420,
       "width": 420
      }
     },
     "output_type": "display_data"
    }
   ],
   "source": [
    "# Count according to the cost the passangers paid for the ticket \n",
    "ggplot(df.train,aes(Fare)) + geom_histogram(binwidth=30,color='black',fill='red',alpha=0.5)"
   ]
  },
  {
   "cell_type": "markdown",
   "metadata": {},
   "source": [
    "# Model Building"
   ]
  },
  {
   "cell_type": "code",
   "execution_count": 22,
   "metadata": {},
   "outputs": [
    {
     "name": "stdout",
     "output_type": "stream",
     "text": [
      "'data.frame':\t891 obs. of  12 variables:\n",
      " $ PassengerId: int  1 2 3 4 5 6 7 8 9 10 ...\n",
      " $ Survived   : int  0 1 1 1 0 0 0 0 1 1 ...\n",
      " $ Pclass     : int  3 1 3 1 3 3 1 3 3 2 ...\n",
      " $ Name       : Factor w/ 891 levels \"Abbing, Mr. Anthony\",..: 109 191 358 277 16 559 520 629 417 581 ...\n",
      " $ Sex        : Factor w/ 2 levels \"female\",\"male\": 2 1 1 1 2 2 2 2 1 1 ...\n",
      " $ Age        : num  22 38 26 35 35 24 54 2 27 14 ...\n",
      " $ SibSp      : int  1 1 0 1 0 0 0 3 0 1 ...\n",
      " $ Parch      : int  0 0 0 0 0 0 0 1 2 0 ...\n",
      " $ Ticket     : Factor w/ 681 levels \"110152\",\"110413\",..: 524 597 670 50 473 276 86 396 345 133 ...\n",
      " $ Fare       : num  7.25 71.28 7.92 53.1 8.05 ...\n",
      " $ Cabin      : Factor w/ 148 levels \"\",\"A10\",\"A14\",..: 1 83 1 57 1 1 131 1 1 1 ...\n",
      " $ Embarked   : Factor w/ 4 levels \"\",\"C\",\"Q\",\"S\": 4 2 4 4 4 3 4 4 4 2 ...\n"
     ]
    }
   ],
   "source": [
    "str(df.train)"
   ]
  },
  {
   "cell_type": "code",
   "execution_count": 23,
   "metadata": {},
   "outputs": [
    {
     "data": {
      "text/html": [
       "<table>\n",
       "<caption>A data.frame: 6 × 12</caption>\n",
       "<thead>\n",
       "\t<tr><th scope=col>PassengerId</th><th scope=col>Survived</th><th scope=col>Pclass</th><th scope=col>Name</th><th scope=col>Sex</th><th scope=col>Age</th><th scope=col>SibSp</th><th scope=col>Parch</th><th scope=col>Ticket</th><th scope=col>Fare</th><th scope=col>Cabin</th><th scope=col>Embarked</th></tr>\n",
       "\t<tr><th scope=col>&lt;int&gt;</th><th scope=col>&lt;int&gt;</th><th scope=col>&lt;int&gt;</th><th scope=col>&lt;fct&gt;</th><th scope=col>&lt;fct&gt;</th><th scope=col>&lt;dbl&gt;</th><th scope=col>&lt;int&gt;</th><th scope=col>&lt;int&gt;</th><th scope=col>&lt;fct&gt;</th><th scope=col>&lt;dbl&gt;</th><th scope=col>&lt;fct&gt;</th><th scope=col>&lt;fct&gt;</th></tr>\n",
       "</thead>\n",
       "<tbody>\n",
       "\t<tr><td>1</td><td>0</td><td>3</td><td>Braund, Mr. Owen Harris                            </td><td>male  </td><td>22</td><td>1</td><td>0</td><td>A/5 21171       </td><td> 7.2500</td><td>    </td><td>S</td></tr>\n",
       "\t<tr><td>2</td><td>1</td><td>1</td><td>Cumings, Mrs. John Bradley (Florence Briggs Thayer)</td><td>female</td><td>38</td><td>1</td><td>0</td><td>PC 17599        </td><td>71.2833</td><td>C85 </td><td>C</td></tr>\n",
       "\t<tr><td>3</td><td>1</td><td>3</td><td>Heikkinen, Miss. Laina                             </td><td>female</td><td>26</td><td>0</td><td>0</td><td>STON/O2. 3101282</td><td> 7.9250</td><td>    </td><td>S</td></tr>\n",
       "\t<tr><td>4</td><td>1</td><td>1</td><td>Futrelle, Mrs. Jacques Heath (Lily May Peel)       </td><td>female</td><td>35</td><td>1</td><td>0</td><td>113803          </td><td>53.1000</td><td>C123</td><td>S</td></tr>\n",
       "\t<tr><td>5</td><td>0</td><td>3</td><td>Allen, Mr. William Henry                           </td><td>male  </td><td>35</td><td>0</td><td>0</td><td>373450          </td><td> 8.0500</td><td>    </td><td>S</td></tr>\n",
       "\t<tr><td>6</td><td>0</td><td>3</td><td>Moran, Mr. James                                   </td><td>male  </td><td>24</td><td>0</td><td>0</td><td>330877          </td><td> 8.4583</td><td>    </td><td>Q</td></tr>\n",
       "</tbody>\n",
       "</table>\n"
      ],
      "text/latex": [
       "A data.frame: 6 × 12\n",
       "\\begin{tabular}{r|llllllllllll}\n",
       " PassengerId & Survived & Pclass & Name & Sex & Age & SibSp & Parch & Ticket & Fare & Cabin & Embarked\\\\\n",
       " <int> & <int> & <int> & <fct> & <fct> & <dbl> & <int> & <int> & <fct> & <dbl> & <fct> & <fct>\\\\\n",
       "\\hline\n",
       "\t 1 & 0 & 3 & Braund, Mr. Owen Harris                             & male   & 22 & 1 & 0 & A/5 21171        &  7.2500 &      & S\\\\\n",
       "\t 2 & 1 & 1 & Cumings, Mrs. John Bradley (Florence Briggs Thayer) & female & 38 & 1 & 0 & PC 17599         & 71.2833 & C85  & C\\\\\n",
       "\t 3 & 1 & 3 & Heikkinen, Miss. Laina                              & female & 26 & 0 & 0 & STON/O2. 3101282 &  7.9250 &      & S\\\\\n",
       "\t 4 & 1 & 1 & Futrelle, Mrs. Jacques Heath (Lily May Peel)        & female & 35 & 1 & 0 & 113803           & 53.1000 & C123 & S\\\\\n",
       "\t 5 & 0 & 3 & Allen, Mr. William Henry                            & male   & 35 & 0 & 0 & 373450           &  8.0500 &      & S\\\\\n",
       "\t 6 & 0 & 3 & Moran, Mr. James                                    & male   & 24 & 0 & 0 & 330877           &  8.4583 &      & Q\\\\\n",
       "\\end{tabular}\n"
      ],
      "text/markdown": [
       "\n",
       "A data.frame: 6 × 12\n",
       "\n",
       "| PassengerId &lt;int&gt; | Survived &lt;int&gt; | Pclass &lt;int&gt; | Name &lt;fct&gt; | Sex &lt;fct&gt; | Age &lt;dbl&gt; | SibSp &lt;int&gt; | Parch &lt;int&gt; | Ticket &lt;fct&gt; | Fare &lt;dbl&gt; | Cabin &lt;fct&gt; | Embarked &lt;fct&gt; |\n",
       "|---|---|---|---|---|---|---|---|---|---|---|---|\n",
       "| 1 | 0 | 3 | Braund, Mr. Owen Harris                             | male   | 22 | 1 | 0 | A/5 21171        |  7.2500 | <!----> | S |\n",
       "| 2 | 1 | 1 | Cumings, Mrs. John Bradley (Florence Briggs Thayer) | female | 38 | 1 | 0 | PC 17599         | 71.2833 | C85  | C |\n",
       "| 3 | 1 | 3 | Heikkinen, Miss. Laina                              | female | 26 | 0 | 0 | STON/O2. 3101282 |  7.9250 | <!----> | S |\n",
       "| 4 | 1 | 1 | Futrelle, Mrs. Jacques Heath (Lily May Peel)        | female | 35 | 1 | 0 | 113803           | 53.1000 | C123 | S |\n",
       "| 5 | 0 | 3 | Allen, Mr. William Henry                            | male   | 35 | 0 | 0 | 373450           |  8.0500 | <!----> | S |\n",
       "| 6 | 0 | 3 | Moran, Mr. James                                    | male   | 24 | 0 | 0 | 330877           |  8.4583 | <!----> | Q |\n",
       "\n"
      ],
      "text/plain": [
       "  PassengerId Survived Pclass\n",
       "1 1           0        3     \n",
       "2 2           1        1     \n",
       "3 3           1        3     \n",
       "4 4           1        1     \n",
       "5 5           0        3     \n",
       "6 6           0        3     \n",
       "  Name                                                Sex    Age SibSp Parch\n",
       "1 Braund, Mr. Owen Harris                             male   22  1     0    \n",
       "2 Cumings, Mrs. John Bradley (Florence Briggs Thayer) female 38  1     0    \n",
       "3 Heikkinen, Miss. Laina                              female 26  0     0    \n",
       "4 Futrelle, Mrs. Jacques Heath (Lily May Peel)        female 35  1     0    \n",
       "5 Allen, Mr. William Henry                            male   35  0     0    \n",
       "6 Moran, Mr. James                                    male   24  0     0    \n",
       "  Ticket           Fare    Cabin Embarked\n",
       "1 A/5 21171         7.2500       S       \n",
       "2 PC 17599         71.2833 C85   C       \n",
       "3 STON/O2. 3101282  7.9250       S       \n",
       "4 113803           53.1000 C123  S       \n",
       "5 373450            8.0500       S       \n",
       "6 330877            8.4583       Q       "
      ]
     },
     "metadata": {},
     "output_type": "display_data"
    }
   ],
   "source": [
    "head(df.train)"
   ]
  },
  {
   "cell_type": "code",
   "execution_count": 24,
   "metadata": {},
   "outputs": [
    {
     "name": "stderr",
     "output_type": "stream",
     "text": [
      "Installing package into 'C:/Users/sawan/Documents/R/win-library/3.6'\n",
      "(as 'lib' is unspecified)\n",
      "\n"
     ]
    },
    {
     "name": "stdout",
     "output_type": "stream",
     "text": [
      "package 'dplyr' successfully unpacked and MD5 sums checked\n"
     ]
    },
    {
     "name": "stderr",
     "output_type": "stream",
     "text": [
      "Warning message:\n",
      "\"cannot remove prior installation of package 'dplyr'\"\n",
      "Warning message in file.copy(savedcopy, lib, recursive = TRUE):\n",
      "\"problem copying C:\\Users\\sawan\\Documents\\R\\win-library\\3.6\\00LOCK\\dplyr\\libs\\x64\\dplyr.dll to C:\\Users\\sawan\\Documents\\R\\win-library\\3.6\\dplyr\\libs\\x64\\dplyr.dll: Permission denied\"\n",
      "Warning message:\n",
      "\"restored 'dplyr'\"\n"
     ]
    },
    {
     "name": "stdout",
     "output_type": "stream",
     "text": [
      "\n",
      "The downloaded binary packages are in\n",
      "\tC:\\Users\\sawan\\AppData\\Local\\Temp\\RtmpWiLoxG\\downloaded_packages\n"
     ]
    },
    {
     "name": "stderr",
     "output_type": "stream",
     "text": [
      "\n",
      "Attaching package: 'dplyr'\n",
      "\n",
      "\n",
      "The following objects are masked from 'package:stats':\n",
      "\n",
      "    filter, lag\n",
      "\n",
      "\n",
      "The following objects are masked from 'package:base':\n",
      "\n",
      "    intersect, setdiff, setequal, union\n",
      "\n",
      "\n"
     ]
    }
   ],
   "source": [
    "install.packages(\"dplyr\")\n",
    "library(dplyr)"
   ]
  },
  {
   "cell_type": "code",
   "execution_count": 25,
   "metadata": {},
   "outputs": [],
   "source": [
    "df.train <- select(df.train,-PassengerId,-Name,-Ticket,-Cabin)"
   ]
  },
  {
   "cell_type": "code",
   "execution_count": 26,
   "metadata": {},
   "outputs": [
    {
     "data": {
      "text/html": [
       "<table>\n",
       "<caption>A data.frame: 6 × 8</caption>\n",
       "<thead>\n",
       "\t<tr><th scope=col>Survived</th><th scope=col>Pclass</th><th scope=col>Sex</th><th scope=col>Age</th><th scope=col>SibSp</th><th scope=col>Parch</th><th scope=col>Fare</th><th scope=col>Embarked</th></tr>\n",
       "\t<tr><th scope=col>&lt;int&gt;</th><th scope=col>&lt;int&gt;</th><th scope=col>&lt;fct&gt;</th><th scope=col>&lt;dbl&gt;</th><th scope=col>&lt;int&gt;</th><th scope=col>&lt;int&gt;</th><th scope=col>&lt;dbl&gt;</th><th scope=col>&lt;fct&gt;</th></tr>\n",
       "</thead>\n",
       "<tbody>\n",
       "\t<tr><td>0</td><td>3</td><td>male  </td><td>22</td><td>1</td><td>0</td><td> 7.2500</td><td>S</td></tr>\n",
       "\t<tr><td>1</td><td>1</td><td>female</td><td>38</td><td>1</td><td>0</td><td>71.2833</td><td>C</td></tr>\n",
       "\t<tr><td>1</td><td>3</td><td>female</td><td>26</td><td>0</td><td>0</td><td> 7.9250</td><td>S</td></tr>\n",
       "\t<tr><td>1</td><td>1</td><td>female</td><td>35</td><td>1</td><td>0</td><td>53.1000</td><td>S</td></tr>\n",
       "\t<tr><td>0</td><td>3</td><td>male  </td><td>35</td><td>0</td><td>0</td><td> 8.0500</td><td>S</td></tr>\n",
       "\t<tr><td>0</td><td>3</td><td>male  </td><td>24</td><td>0</td><td>0</td><td> 8.4583</td><td>Q</td></tr>\n",
       "</tbody>\n",
       "</table>\n"
      ],
      "text/latex": [
       "A data.frame: 6 × 8\n",
       "\\begin{tabular}{r|llllllll}\n",
       " Survived & Pclass & Sex & Age & SibSp & Parch & Fare & Embarked\\\\\n",
       " <int> & <int> & <fct> & <dbl> & <int> & <int> & <dbl> & <fct>\\\\\n",
       "\\hline\n",
       "\t 0 & 3 & male   & 22 & 1 & 0 &  7.2500 & S\\\\\n",
       "\t 1 & 1 & female & 38 & 1 & 0 & 71.2833 & C\\\\\n",
       "\t 1 & 3 & female & 26 & 0 & 0 &  7.9250 & S\\\\\n",
       "\t 1 & 1 & female & 35 & 1 & 0 & 53.1000 & S\\\\\n",
       "\t 0 & 3 & male   & 35 & 0 & 0 &  8.0500 & S\\\\\n",
       "\t 0 & 3 & male   & 24 & 0 & 0 &  8.4583 & Q\\\\\n",
       "\\end{tabular}\n"
      ],
      "text/markdown": [
       "\n",
       "A data.frame: 6 × 8\n",
       "\n",
       "| Survived &lt;int&gt; | Pclass &lt;int&gt; | Sex &lt;fct&gt; | Age &lt;dbl&gt; | SibSp &lt;int&gt; | Parch &lt;int&gt; | Fare &lt;dbl&gt; | Embarked &lt;fct&gt; |\n",
       "|---|---|---|---|---|---|---|---|\n",
       "| 0 | 3 | male   | 22 | 1 | 0 |  7.2500 | S |\n",
       "| 1 | 1 | female | 38 | 1 | 0 | 71.2833 | C |\n",
       "| 1 | 3 | female | 26 | 0 | 0 |  7.9250 | S |\n",
       "| 1 | 1 | female | 35 | 1 | 0 | 53.1000 | S |\n",
       "| 0 | 3 | male   | 35 | 0 | 0 |  8.0500 | S |\n",
       "| 0 | 3 | male   | 24 | 0 | 0 |  8.4583 | Q |\n",
       "\n"
      ],
      "text/plain": [
       "  Survived Pclass Sex    Age SibSp Parch Fare    Embarked\n",
       "1 0        3      male   22  1     0      7.2500 S       \n",
       "2 1        1      female 38  1     0     71.2833 C       \n",
       "3 1        3      female 26  0     0      7.9250 S       \n",
       "4 1        1      female 35  1     0     53.1000 S       \n",
       "5 0        3      male   35  0     0      8.0500 S       \n",
       "6 0        3      male   24  0     0      8.4583 Q       "
      ]
     },
     "metadata": {},
     "output_type": "display_data"
    }
   ],
   "source": [
    "# Removed unnecessary Features\n",
    "head(df.train)"
   ]
  },
  {
   "cell_type": "code",
   "execution_count": 27,
   "metadata": {},
   "outputs": [
    {
     "name": "stdout",
     "output_type": "stream",
     "text": [
      "'data.frame':\t891 obs. of  8 variables:\n",
      " $ Survived: int  0 1 1 1 0 0 0 0 1 1 ...\n",
      " $ Pclass  : int  3 1 3 1 3 3 1 3 3 2 ...\n",
      " $ Sex     : Factor w/ 2 levels \"female\",\"male\": 2 1 1 1 2 2 2 2 1 1 ...\n",
      " $ Age     : num  22 38 26 35 35 24 54 2 27 14 ...\n",
      " $ SibSp   : int  1 1 0 1 0 0 0 3 0 1 ...\n",
      " $ Parch   : int  0 0 0 0 0 0 0 1 2 0 ...\n",
      " $ Fare    : num  7.25 71.28 7.92 53.1 8.05 ...\n",
      " $ Embarked: Factor w/ 4 levels \"\",\"C\",\"Q\",\"S\": 4 2 4 4 4 3 4 4 4 2 ...\n"
     ]
    }
   ],
   "source": [
    "str(df.train)"
   ]
  },
  {
   "cell_type": "code",
   "execution_count": 28,
   "metadata": {},
   "outputs": [],
   "source": [
    "df.train$Survived <- factor(df.train$Survived)\n",
    "df.train$Pclass <- factor(df.train$Pclass)\n",
    "df.train$Parch <- factor(df.train$Parch)\n",
    "df.train$SibSp <- factor(df.train$SibSp)"
   ]
  },
  {
   "cell_type": "markdown",
   "metadata": {},
   "source": [
    "# Train The Model"
   ]
  },
  {
   "cell_type": "code",
   "execution_count": 29,
   "metadata": {},
   "outputs": [],
   "source": [
    "model <- glm(formula=Survived ~ . , family = binomial(link='logit'),data = df.train)"
   ]
  },
  {
   "cell_type": "code",
   "execution_count": 30,
   "metadata": {},
   "outputs": [
    {
     "data": {
      "text/plain": [
       "\n",
       "Call:\n",
       "glm(formula = Survived ~ ., family = binomial(link = \"logit\"), \n",
       "    data = df.train)\n",
       "\n",
       "Deviance Residuals: \n",
       "    Min       1Q   Median       3Q      Max  \n",
       "-2.8158  -0.6134  -0.4138   0.5808   2.4896  \n",
       "\n",
       "Coefficients:\n",
       "              Estimate Std. Error z value Pr(>|z|)    \n",
       "(Intercept)  1.845e+01  1.660e+03   0.011 0.991134    \n",
       "Pclass2     -1.079e+00  3.092e-01  -3.490 0.000484 ***\n",
       "Pclass3     -2.191e+00  3.161e-01  -6.930 4.20e-12 ***\n",
       "Sexmale     -2.677e+00  2.040e-01 -13.123  < 2e-16 ***\n",
       "Age         -3.971e-02  8.758e-03  -4.534 5.79e-06 ***\n",
       "SibSp1       8.135e-02  2.245e-01   0.362 0.717133    \n",
       "SibSp2      -2.897e-01  5.368e-01  -0.540 0.589361    \n",
       "SibSp3      -2.241e+00  7.202e-01  -3.111 0.001862 ** \n",
       "SibSp4      -1.675e+00  7.620e-01  -2.198 0.027954 *  \n",
       "SibSp5      -1.595e+01  9.588e+02  -0.017 0.986731    \n",
       "SibSp8      -1.607e+01  7.578e+02  -0.021 0.983077    \n",
       "Parch1       3.741e-01  2.895e-01   1.292 0.196213    \n",
       "Parch2       3.862e-02  3.824e-01   0.101 0.919560    \n",
       "Parch3       3.655e-01  1.056e+00   0.346 0.729318    \n",
       "Parch4      -1.586e+01  1.055e+03  -0.015 0.988007    \n",
       "Parch5      -1.152e+00  1.172e+00  -0.983 0.325771    \n",
       "Parch6      -1.643e+01  2.400e+03  -0.007 0.994536    \n",
       "Fare         2.109e-03  2.490e-03   0.847 0.397036    \n",
       "EmbarkedC   -1.458e+01  1.660e+03  -0.009 0.992995    \n",
       "EmbarkedQ   -1.456e+01  1.660e+03  -0.009 0.993001    \n",
       "EmbarkedS   -1.486e+01  1.660e+03  -0.009 0.992857    \n",
       "---\n",
       "Signif. codes:  0 '***' 0.001 '**' 0.01 '*' 0.05 '.' 0.1 ' ' 1\n",
       "\n",
       "(Dispersion parameter for binomial family taken to be 1)\n",
       "\n",
       "    Null deviance: 1186.66  on 890  degrees of freedom\n",
       "Residual deviance:  763.41  on 870  degrees of freedom\n",
       "AIC: 805.41\n",
       "\n",
       "Number of Fisher Scoring iterations: 15\n"
      ]
     },
     "metadata": {},
     "output_type": "display_data"
    }
   ],
   "source": [
    "summary(model)"
   ]
  },
  {
   "cell_type": "code",
   "execution_count": 31,
   "metadata": {},
   "outputs": [],
   "source": [
    "model <- glm(formula=Survived ~ . , family = binomial(link='logit'),data = df.train)"
   ]
  },
  {
   "cell_type": "markdown",
   "metadata": {},
   "source": [
    "# Making Predictions"
   ]
  },
  {
   "cell_type": "code",
   "execution_count": 32,
   "metadata": {},
   "outputs": [],
   "source": [
    "# Matching the test and the train datasets\n",
    "df.test <- select(df.test,-PassengerId,-Name,-Ticket,-Cabin)"
   ]
  },
  {
   "cell_type": "code",
   "execution_count": 33,
   "metadata": {},
   "outputs": [
    {
     "data": {
      "text/plain": [
       "     Pclass          Sex           Age            SibSp            Parch      \n",
       " Min.   :1.000   female:151   Min.   : 0.17   Min.   :0.0000   Min.   :0.000  \n",
       " 1st Qu.:1.000   male  :265   1st Qu.:23.00   1st Qu.:0.0000   1st Qu.:0.000  \n",
       " Median :3.000                Median :25.00   Median :0.0000   Median :0.000  \n",
       " Mean   :2.262                Mean   :29.35   Mean   :0.4447   Mean   :0.351  \n",
       " 3rd Qu.:3.000                3rd Qu.:36.62   3rd Qu.:1.0000   3rd Qu.:0.000  \n",
       " Max.   :3.000                Max.   :76.00   Max.   :8.0000   Max.   :6.000  \n",
       "      Fare         Embarked\n",
       " Min.   :  0.000   C:102   \n",
       " 1st Qu.:  7.896   Q: 46   \n",
       " Median : 14.454   S:268   \n",
       " Mean   : 35.464           \n",
       " 3rd Qu.: 31.416           \n",
       " Max.   :512.329           "
      ]
     },
     "metadata": {},
     "output_type": "display_data"
    }
   ],
   "source": [
    "summary(df.test)"
   ]
  },
  {
   "cell_type": "code",
   "execution_count": 34,
   "metadata": {},
   "outputs": [],
   "source": [
    "df.test$Pclass <- factor(df.test$Pclass)\n",
    "df.test$Parch <- factor(df.test$Parch)\n",
    "df.test$SibSp <- factor(df.test$SibSp)"
   ]
  },
  {
   "cell_type": "code",
   "execution_count": 39,
   "metadata": {},
   "outputs": [],
   "source": [
    "# Predicting outcomes for test data \n",
    "fitted.probabilities <- predict(model,newdata=df.test,type='response')"
   ]
  },
  {
   "cell_type": "code",
   "execution_count": 40,
   "metadata": {},
   "outputs": [],
   "source": [
    "fitted.results <- ifelse(fitted.probabilities > 0.5,1,0)"
   ]
  },
  {
   "cell_type": "code",
   "execution_count": 41,
   "metadata": {},
   "outputs": [
    {
     "name": "stdout",
     "output_type": "stream",
     "text": [
      "    fitted.results\n",
      "1                0\n",
      "2                0\n",
      "3                0\n",
      "4                0\n",
      "5                1\n",
      "6                0\n",
      "7                1\n",
      "8                0\n",
      "9                1\n",
      "10               0\n",
      "11               0\n",
      "12               0\n",
      "13               1\n",
      "14               0\n",
      "15               1\n",
      "16               1\n",
      "17               0\n",
      "18               0\n",
      "19               1\n",
      "20               0\n",
      "21               0\n",
      "22               0\n",
      "23               1\n",
      "24               1\n",
      "25               1\n",
      "26               0\n",
      "27               1\n",
      "28               0\n",
      "29               0\n",
      "30               0\n",
      "31               0\n",
      "32               0\n",
      "33               1\n",
      "34               1\n",
      "35               1\n",
      "36               0\n",
      "37               1\n",
      "38               1\n",
      "39               0\n",
      "40               0\n",
      "41               0\n",
      "42               0\n",
      "43               0\n",
      "44               1\n",
      "45               1\n",
      "46               0\n",
      "47               0\n",
      "48               0\n",
      "49               1\n",
      "50               1\n",
      "51               1\n",
      "52               0\n",
      "53               1\n",
      "54               1\n",
      "55               0\n",
      "56               0\n",
      "57               0\n",
      "58               0\n",
      "59               0\n",
      "60               1\n",
      "61               0\n",
      "62               0\n",
      "63               0\n",
      "64               1\n",
      "65               1\n",
      "66               1\n",
      "67               1\n",
      "68               0\n",
      "69               1\n",
      "70               0\n",
      "71               1\n",
      "72               0\n",
      "73               1\n",
      "74               1\n",
      "75               1\n",
      "76               1\n",
      "77               0\n",
      "78               1\n",
      "79               0\n",
      "80               1\n",
      "81               0\n",
      "82               0\n",
      "83               0\n",
      "84               0\n",
      "85               0\n",
      "86               0\n",
      "87               1\n",
      "88               1\n",
      "89               1\n",
      "90               1\n",
      "91               1\n",
      "92               0\n",
      "93               1\n",
      "94               0\n",
      "95               1\n",
      "96               0\n",
      "97               1\n",
      "98               0\n",
      "99               1\n",
      "100              0\n",
      "101              1\n",
      "102              0\n",
      "103              0\n",
      "104              0\n",
      "105              1\n",
      "106              0\n",
      "107              0\n",
      "108              0\n",
      "109              0\n",
      "110              0\n",
      "111              0\n",
      "112              1\n",
      "113              1\n",
      "114              1\n",
      "115              1\n",
      "116              0\n",
      "117              0\n",
      "118              1\n",
      "119              0\n",
      "120              1\n",
      "121              1\n",
      "122              0\n",
      "123              1\n",
      "124              0\n",
      "125              0\n",
      "126              1\n",
      "127              0\n",
      "128              1\n",
      "129              0\n",
      "130              0\n",
      "131              0\n",
      "132              0\n",
      "133              0\n",
      "134              0\n",
      "135              0\n",
      "136              0\n",
      "137              0\n",
      "138              0\n",
      "139              1\n",
      "140              0\n",
      "141              0\n",
      "142              1\n",
      "143              0\n",
      "144              0\n",
      "145              0\n",
      "146              0\n",
      "147              0\n",
      "148              0\n",
      "149              0\n",
      "150              0\n",
      "151              1\n",
      "152              0\n",
      "153              0\n",
      "154              1\n",
      "155              0\n",
      "156              0\n",
      "157              1\n",
      "158              1\n",
      "159              0\n",
      "160              1\n",
      "161              1\n",
      "162              0\n",
      "163              1\n",
      "164              0\n",
      "165              0\n",
      "166              1\n",
      "167              0\n",
      "168              0\n",
      "169              1\n",
      "170              1\n",
      "171              0\n",
      "172              0\n",
      "173              0\n",
      "174              0\n",
      "175              0\n",
      "176              1\n",
      "177              1\n",
      "178              0\n",
      "179              1\n",
      "180              1\n",
      "181              0\n",
      "182              1\n",
      "183              1\n",
      "184              0\n",
      "185              1\n",
      "186              0\n",
      "187              1\n",
      "188              0\n",
      "189              0\n",
      "190              0\n",
      "191              0\n",
      "192              0\n",
      "193              0\n",
      "194              0\n",
      "195              0\n",
      "196              0\n",
      "197              1\n",
      "198              1\n",
      "199              0\n",
      "200              1\n",
      "201              1\n",
      "202              0\n",
      "203              0\n",
      "204              1\n",
      "205              0\n",
      "206              0\n",
      "207              1\n",
      "208              0\n",
      "209              1\n",
      "210              0\n",
      "211              0\n",
      "212              0\n",
      "213              0\n",
      "214              1\n",
      "215              0\n",
      "216              0\n",
      "217              1\n",
      "218              0\n",
      "219              1\n",
      "220              0\n",
      "221              1\n",
      "222              0\n",
      "223              1\n",
      "224              0\n",
      "225              1\n",
      "226              1\n",
      "227              0\n",
      "228              1\n",
      "229              0\n",
      "230              0\n",
      "231              0\n",
      "232              1\n",
      "233              0\n",
      "234              0\n",
      "235              0\n",
      "236              0\n",
      "237              0\n",
      "238              0\n",
      "239              1\n",
      "240              1\n",
      "241              1\n",
      "242              1\n",
      "243              1\n",
      "244              0\n",
      "245              0\n",
      "246              0\n",
      "247              1\n",
      "248              0\n",
      "249              1\n",
      "250              1\n",
      "251              1\n",
      "252              0\n",
      "253              1\n",
      "254              0\n",
      "255              0\n",
      "256              0\n",
      "257              0\n",
      "258              0\n",
      "259              1\n",
      "260              0\n",
      "261              0\n",
      "262              0\n",
      "263              1\n",
      "264              1\n",
      "265              0\n",
      "266              0\n",
      "267              0\n",
      "268              0\n",
      "269              1\n",
      "270              0\n",
      "271              0\n",
      "272              0\n",
      "273              1\n",
      "274              1\n",
      "275              0\n",
      "276              1\n",
      "277              0\n",
      "278              0\n",
      "279              0\n",
      "280              0\n",
      "281              1\n",
      "282              0\n",
      "283              1\n",
      "284              1\n",
      "285              1\n",
      "286              0\n",
      "287              0\n",
      "288              1\n",
      "289              0\n",
      "290              0\n",
      "291              0\n",
      "292              1\n",
      "293              0\n",
      "294              0\n",
      "295              0\n",
      "296              0\n",
      "297              1\n",
      "298              0\n",
      "299              0\n",
      "300              0\n",
      "301              0\n",
      "302              0\n",
      "303              0\n",
      "304              0\n",
      "305              1\n",
      "306              1\n",
      "307              1\n",
      "308              0\n",
      "309              0\n",
      "310              0\n",
      "311              0\n",
      "312              0\n",
      "313              0\n",
      "314              1\n",
      "315              1\n",
      "316              1\n",
      "317              0\n",
      "318              0\n",
      "319              0\n",
      "320              0\n",
      "321              0\n",
      "322              0\n",
      "323              0\n",
      "324              0\n",
      "325              1\n",
      "326              0\n",
      "327              1\n",
      "328              0\n",
      "329              0\n",
      "330              0\n",
      "331              1\n",
      "332              0\n",
      "333              0\n",
      "334              1\n",
      "335              0\n",
      "336              0\n",
      "337              0\n",
      "338              0\n",
      "339              0\n",
      "340              0\n",
      "341              0\n",
      "342              0\n",
      "343              1\n",
      "344              0\n",
      "345              1\n",
      "346              0\n",
      "347              1\n",
      "348              0\n",
      "349              1\n",
      "350              1\n",
      "351              0\n",
      "352              0\n",
      "353              0\n",
      "354              1\n",
      "355              0\n",
      "356              1\n",
      "357              0\n",
      "358              0\n",
      "359              1\n",
      "360              0\n",
      "361              1\n",
      "362              1\n",
      "363              0\n",
      "364              1\n",
      "365              0\n",
      "366              1\n",
      "367              1\n",
      "368              0\n",
      "369              0\n",
      "370              1\n",
      "371              0\n",
      "372              0\n",
      "373              1\n",
      "374              1\n",
      "375              1\n",
      "376              0\n",
      "377              0\n",
      "378              0\n",
      "379              0\n",
      "380              0\n",
      "381              1\n",
      "382              1\n",
      "383              0\n",
      "384              1\n",
      "385              0\n",
      "386              0\n",
      "387              0\n",
      "388              0\n",
      "389              1\n",
      "390              1\n",
      "391              0\n",
      "392              0\n",
      "393              0\n",
      "394              1\n",
      "395              0\n",
      "396              1\n",
      "397              0\n",
      "398              0\n",
      "399              1\n",
      "400              0\n",
      "401              1\n",
      "402              1\n",
      "403              0\n",
      "404              0\n",
      "405              0\n",
      "406              1\n",
      "407              1\n",
      "408              1\n",
      "409              1\n",
      "410              1\n",
      "411              1\n",
      "412              0\n",
      "413              1\n",
      "414              0\n",
      "415              0\n",
      "416              0\n"
     ]
    }
   ],
   "source": [
    "# final predictions\n",
    "results <- cbind(fitted.results,df.test$PassengerId)\n",
    "print(results)"
   ]
  },
  {
   "cell_type": "code",
   "execution_count": null,
   "metadata": {},
   "outputs": [],
   "source": []
  }
 ],
 "metadata": {
  "kernelspec": {
   "display_name": "R",
   "language": "R",
   "name": "ir"
  },
  "language_info": {
   "codemirror_mode": "r",
   "file_extension": ".r",
   "mimetype": "text/x-r-source",
   "name": "R",
   "pygments_lexer": "r",
   "version": "3.6.1"
  }
 },
 "nbformat": 4,
 "nbformat_minor": 2
}
